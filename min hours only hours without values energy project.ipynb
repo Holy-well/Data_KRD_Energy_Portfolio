{
 "cells": [
  {
   "cell_type": "code",
   "execution_count": 8,
   "id": "d8d7a5d2",
   "metadata": {},
   "outputs": [
    {
     "name": "stdout",
     "output_type": "stream",
     "text": [
      "Значения столбца ОЭС Центра:\n",
      "906, 7744, 7745, 7768, 7792, 8080, 8081, 8097, 8098, 8103, 8104, 8105, 8106, 8126, 8128, 8193, 8194, 8199, 8200, 8202, 8203, 8216, 8217, 8218, 8220, 8240, 8242, 8246, 8248, 8249, 8250, 8251, 8265, 8266, 8267, 8272, 8274, 8289, 8291, 8298, 8321, 8361, 8368, 8370, 8387, 8608\n",
      "\n",
      "Значения столбца ОЭС Волги:\n",
      "473, 474, 521, 522, 545, 546, 633, 634, 635, 636, 637, 638, 641, 643, 644, 657, 659, 661, 662, 663, 664, 665, 666, 681, 682, 683, 686, 689, 690, 692, 708, 714, 735, 739, 740, 802, 857, 858, 878, 882, 897, 1410, 8681\n",
      "\n",
      "Значения столбца ОЭС Урал:\n",
      "968, 7737, 8073, 8074, 8079, 8095, 8096, 8097, 8098, 8099, 8101, 8119, 8120, 8121, 8122, 8123, 8127, 8128, 8193, 8199, 8224, 8239, 8240, 8244, 8265, 8288, 8289, 8360, 8361, 8362, 8365, 8367, 8384, 8391, 8529, 8531, 8583, 8600\n",
      "\n",
      "Значения столбца ОЭС Юга:\n",
      "969, 978, 4524, 4525, 4526, 4527, 8177, 8192, 8193, 8194, 8200, 8202, 8216, 8217, 8223, 8224, 8225, 8226, 8240, 8248, 8249, 8321, 8440, 8442, 8530, 8560, 8561, 8577, 8579, 8580, 8585, 8608, 8609, 8625, 8634\n",
      "\n",
      "Значения столбца ОЭС Северо-Запада:\n",
      "198, 199, 200, 201, 202, 206, 207, 209, 255, 295, 296, 303, 304, 352, 375, 376, 471, 488, 496, 631, 639, 640, 654, 655, 663, 664, 665, 678, 679, 681, 682, 685, 687, 688, 689, 703, 704, 727, 728, 966, 967, 970, 973\n",
      "\n",
      "Значения столбца ОЭС Сибири:\n",
      "485, 486, 509, 797, 798, 8647, 8648, 8651, 8652, 8653, 8654, 8676, 8677, 8678, 8679, 8691, 8692, 8693, 8694, 8695, 8696, 8697, 8698, 8699, 8702, 8703, 8704, 8718, 8720, 8721, 8724, 8728, 8740, 8741, 8742, 8750\n",
      "\n"
     ]
    }
   ],
   "source": [
    "import pandas as pd\n",
    "\n",
    "# Открываем файл Excel\n",
    "file_path = 'C:/minmin.xlsx'\n",
    "df = pd.read_excel(file_path, sheet_name='a')\n",
    "\n",
    "# Список столбцов, для которых нужно выполнить действия\n",
    "columns = [0, 1, 2, 3, 4, 5]\n",
    "column_names = ['ОЭС Центра', 'ОЭС Волги', 'ОЭС Урал', 'ОЭС Юга', 'ОЭС Северо-Запада', 'ОЭС Сибири']\n",
    "\n",
    "# Проходим по каждому столбцу\n",
    "for col, col_name in zip(columns, column_names):\n",
    "    # Получаем значения столбца\n",
    "    values = df.iloc[:, col].values\n",
    "    \n",
    "    # Находим наибольшее значение\n",
    "    max_value = values.max()\n",
    "    \n",
    "    # Находим значения, составляющие не менее 95% от наибольшего значения\n",
    "    threshold = max_value * 0.95\n",
    "    filtered_values = values[values >= threshold]\n",
    "    \n",
    "    # Получаем номера строк для отфильтрованных значений\n",
    "    row_numbers = [df.index[df.iloc[:, col] == value].tolist()[0] for value in filtered_values]\n",
    "    \n",
    "    # Удаляем дубликаты значений и номеров строк\n",
    "    unique_values = []\n",
    "    unique_row_numbers = []\n",
    "    for value, row_number in zip(filtered_values, row_numbers):\n",
    "        if value not in unique_values:\n",
    "            unique_values.append(value)\n",
    "            unique_row_numbers.append(row_number)\n",
    "    \n",
    "    # Сортируем значения и номера строк по номеру строки\n",
    "    sorted_values, sorted_row_numbers = zip(*sorted(zip(unique_values, unique_row_numbers), key=lambda x: x[1]))\n",
    "    \n",
    "    # Выводим значения и номера строк\n",
    "    print(f'Значения столбца {col_name}:')\n",
    "    row_numbers_string = ', '.join(map(str, sorted_row_numbers))\n",
    "    print(row_numbers_string)\n",
    "    print()"
   ]
  },
  {
   "cell_type": "code",
   "execution_count": null,
   "id": "fcb7345d",
   "metadata": {},
   "outputs": [],
   "source": []
  }
 ],
 "metadata": {
  "kernelspec": {
   "display_name": "Python 3 (ipykernel)",
   "language": "python",
   "name": "python3"
  },
  "language_info": {
   "codemirror_mode": {
    "name": "ipython",
    "version": 3
   },
   "file_extension": ".py",
   "mimetype": "text/x-python",
   "name": "python",
   "nbconvert_exporter": "python",
   "pygments_lexer": "ipython3",
   "version": "3.11.3"
  }
 },
 "nbformat": 4,
 "nbformat_minor": 5
}
